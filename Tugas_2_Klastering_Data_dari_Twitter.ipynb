{
  "nbformat": 4,
  "nbformat_minor": 0,
  "metadata": {
    "colab": {
      "provenance": [],
      "collapsed_sections": []
    },
    "kernelspec": {
      "name": "python3",
      "display_name": "Python 3"
    },
    "language_info": {
      "name": "python"
    }
  },
  "cells": [
    {
      "cell_type": "markdown",
      "source": [
        "Klastering data twitter menggunakan keyword \"penembakan\" dimulai dari tanggal 1-30 September 2022"
      ],
      "metadata": {
        "id": "zbAzA9zPaj-Z"
      }
    },
    {
      "cell_type": "markdown",
      "source": [
        "Pertama install library snscrape.  Library snscrape digunakan\n",
        "karena mudah digunakan dan tidak perlu mengakses langsung\n",
        "Twitter API dengan access key atau token, sehingga tidak\n",
        "diperlukan akun Developer Twitter."
      ],
      "metadata": {
        "id": "2IhOeWFSa5sU"
      }
    },
    {
      "cell_type": "code",
      "source": [
        "!pip3 install snscrape"
      ],
      "metadata": {
        "id": "jNbSzqhgNUkx"
      },
      "execution_count": null,
      "outputs": []
    },
    {
      "cell_type": "markdown",
      "source": [
        "Kedua, install library langdetect. "
      ],
      "metadata": {
        "id": "MRREnbBLbwIK"
      }
    },
    {
      "cell_type": "code",
      "source": [
        "pip install langdetect"
      ],
      "metadata": {
        "colab": {
          "base_uri": "https://localhost:8080/"
        },
        "id": "_cpGkLAoZegb",
        "outputId": "afdcd5d6-efe4-43d5-d330-56c8a5c2d3fa"
      },
      "execution_count": null,
      "outputs": [
        {
          "output_type": "stream",
          "name": "stdout",
          "text": [
            "Looking in indexes: https://pypi.org/simple, https://us-python.pkg.dev/colab-wheels/public/simple/\n",
            "Collecting langdetect\n",
            "  Downloading langdetect-1.0.9.tar.gz (981 kB)\n",
            "\u001b[K     |████████████████████████████████| 981 kB 5.1 MB/s \n",
            "\u001b[?25hRequirement already satisfied: six in /usr/local/lib/python3.7/dist-packages (from langdetect) (1.15.0)\n",
            "Building wheels for collected packages: langdetect\n",
            "  Building wheel for langdetect (setup.py) ... \u001b[?25l\u001b[?25hdone\n",
            "  Created wheel for langdetect: filename=langdetect-1.0.9-py3-none-any.whl size=993242 sha256=76605ecd895fc7c3386a17750a906ec7b4d6d6c03d01765eaca254a1ad298f8b\n",
            "  Stored in directory: /root/.cache/pip/wheels/c5/96/8a/f90c59ed25d75e50a8c10a1b1c2d4c402e4dacfa87f3aff36a\n",
            "Successfully built langdetect\n",
            "Installing collected packages: langdetect\n",
            "Successfully installed langdetect-1.0.9\n"
          ]
        }
      ]
    },
    {
      "cell_type": "markdown",
      "source": [
        "Mengimport snscrape modules twitter dan json"
      ],
      "metadata": {
        "id": "iXIV9Gb8cKD3"
      }
    },
    {
      "cell_type": "code",
      "source": [
        "import snscrape.modules.twitter as sntwitter\n",
        "import json\n",
        "from langdetect import detect"
      ],
      "metadata": {
        "id": "TXJV6YeeZihZ"
      },
      "execution_count": null,
      "outputs": []
    },
    {
      "cell_type": "code",
      "source": [
        "Menulis keyword dan mengatur tanggal awal dan akhir yang digunakan"
      ],
      "metadata": {
        "id": "lA5ya1odcTQZ"
      },
      "execution_count": null,
      "outputs": []
    },
    {
      "cell_type": "code",
      "source": [
        "keywords=['penembakan']\n",
        "start=\"2022–09–01\"\n",
        "end =\"2022–09-30\"\n",
        "max_num=10\n",
        "fname='tweet.json' \n",
        "languages=['id','en']"
      ],
      "metadata": {
        "id": "_sPucD-vZsz1"
      },
      "execution_count": null,
      "outputs": []
    },
    {
      "cell_type": "markdown",
      "source": [
        "Mengimport library panda"
      ],
      "metadata": {
        "id": "OvmCrL63dCQB"
      }
    },
    {
      "cell_type": "code",
      "source": [
        "import pandas as pd\n",
        "datatw=[]"
      ],
      "metadata": {
        "id": "pf7ZIVlVzwy7"
      },
      "execution_count": null,
      "outputs": []
    },
    {
      "cell_type": "code",
      "source": [
        "for keyword in keywords:\n",
        "   \n",
        "    for i, tweet in enumerate (sntwitter.TwitterSearchScraper(f'{keyword} ').get_items()):\n",
        "        \n",
        "        try:\n",
        "            lan=detect(tweet.content)\n",
        "        except:\n",
        "            lan='error'\n",
        "        if i == max_num:\n",
        "            break\n",
        "        if lan in languages:\n",
        "            data = {'id': tweet.id, 'username':tweet.username, 'date': tweet.date, 'text': tweet.content,'url':tweet.url}\n",
        "           # print(data)\n",
        "            datatw.append(tweet.content)\n",
        "            with open(fname, 'a+', encoding='utf-8') as f:\n",
        "                line = json.dumps(data, ensure_ascii=False,default=str)\n",
        "                #print(line)\n",
        "                f.write(line)\n",
        "                f.write('\\n')"
      ],
      "metadata": {
        "id": "1-8oNU5nZmMT"
      },
      "execution_count": null,
      "outputs": []
    },
    {
      "cell_type": "code",
      "source": [
        "datatw"
      ],
      "metadata": {
        "colab": {
          "base_uri": "https://localhost:8080/"
        },
        "id": "ER2Zx6Y90jj1",
        "outputId": "25f38742-f846-4bbb-9e61-509b2eb2af3b"
      },
      "execution_count": null,
      "outputs": [
        {
          "output_type": "execute_result",
          "data": {
            "text/plain": [
              "['@kumparan Lah emang bukan karena gas air mata lah, karena ada penembakan gas air mata kemudian penonton di tribun lagi aman damai sejahtera jd panik dsb.. Kaga ada yg nyalahin gas air matanya 🙏🏻',\n",
              " '@siapkawalpolri Dari ketiga polisi yg sdh ditetapkan sebgai tersangka itu menandakan bahwa polri sangat serius mengungkapkan tragedi inii, selanjutnya polri tinggal tanya ke tersangka siapa yg perintahkan penembakan gas air mata itu. Usut tuntas tragedi kanjuruhan. @ListyoSigitP @DivHumas_Polri',\n",
              " 'TGIPF mengejar perwira polisi level tertinggi yang memerintahkan penembakan gas air mata di Stadion Kanjuruhan. Diduga ada kepentingan iklan sehingga laga Arema versus Persebaya digelar pada malam hari.\\n#KoranTempo  https://t.co/eHlVvuTOgI',\n",
              " 'Kronologi Penembakan Salah Sasaran di AS, Korban Seorang WNI asal Semarang https://t.co/8ilbdGbCvm',\n",
              " 'Insiden penembakan di Bexar County, Texas, menewaskan seorang warga negara Indonesia. Dubes AS untuk Indonesia Sung Yong Kim memastikan adanya investigasi peristiwa itu. #Internasional #AdadiKompas\\nhttps://t.co/QpGfInISGW',\n",
              " 'KJRI Houston Upayakan Jenazah Novita WNI Korban Penembakan Segera Dipulangkan – detikNews – Artikel Populer Google Berita – https://t.co/zQe717QyiJ –\\xa0#Opsiin https://t.co/PXSZUcfjpl',\n",
              " '@panditfootball Meskipun bgtu, penembakan gas air mata lah yg membuat masa menjadi panik, ditambah akses keluar yg sulit menyebabkan masa terinjak-injak dan tipis nya oksigen dr banyaknya kerumunan yg mjdkan sulit bernapas',\n",
              " 'Novita Kurnia Putri WNI Korban Penembakan di AS Ingin Pulang ke Semarang untuk Resepsi Pernikahan  https://t.co/DW0IAlLL1r',\n",
              " '#fashion #jogja #berita #wakboy penembakan brutal disekolah https://t.co/Hoj1LglDcO',\n",
              " '#fashion #jogja #berita #wakboy penembakan brutal disekolah https://t.co/e6eOqGq8pF']"
            ]
          },
          "metadata": {},
          "execution_count": 11
        }
      ]
    },
    {
      "cell_type": "markdown",
      "source": [
        "Menginstal sastrawi "
      ],
      "metadata": {
        "id": "3J2VFH6FdGAi"
      }
    },
    {
      "cell_type": "code",
      "source": [
        "!pip install Sastrawi"
      ],
      "metadata": {
        "colab": {
          "base_uri": "https://localhost:8080/"
        },
        "id": "xeqqY0rz3165",
        "outputId": "586b4dd6-3cff-4f73-a1ec-10487ff18584"
      },
      "execution_count": null,
      "outputs": [
        {
          "output_type": "stream",
          "name": "stdout",
          "text": [
            "Looking in indexes: https://pypi.org/simple, https://us-python.pkg.dev/colab-wheels/public/simple/\n",
            "Collecting Sastrawi\n",
            "  Downloading Sastrawi-1.0.1-py2.py3-none-any.whl (209 kB)\n",
            "\u001b[?25l\r\u001b[K     |█▋                              | 10 kB 20.4 MB/s eta 0:00:01\r\u001b[K     |███▏                            | 20 kB 6.0 MB/s eta 0:00:01\r\u001b[K     |████▊                           | 30 kB 8.5 MB/s eta 0:00:01\r\u001b[K     |██████▎                         | 40 kB 4.3 MB/s eta 0:00:01\r\u001b[K     |███████▉                        | 51 kB 4.2 MB/s eta 0:00:01\r\u001b[K     |█████████▍                      | 61 kB 4.9 MB/s eta 0:00:01\r\u001b[K     |███████████                     | 71 kB 5.3 MB/s eta 0:00:01\r\u001b[K     |████████████▌                   | 81 kB 6.0 MB/s eta 0:00:01\r\u001b[K     |██████████████                  | 92 kB 6.3 MB/s eta 0:00:01\r\u001b[K     |███████████████▋                | 102 kB 5.1 MB/s eta 0:00:01\r\u001b[K     |█████████████████▏              | 112 kB 5.1 MB/s eta 0:00:01\r\u001b[K     |██████████████████▊             | 122 kB 5.1 MB/s eta 0:00:01\r\u001b[K     |████████████████████▎           | 133 kB 5.1 MB/s eta 0:00:01\r\u001b[K     |█████████████████████▉          | 143 kB 5.1 MB/s eta 0:00:01\r\u001b[K     |███████████████████████▍        | 153 kB 5.1 MB/s eta 0:00:01\r\u001b[K     |█████████████████████████       | 163 kB 5.1 MB/s eta 0:00:01\r\u001b[K     |██████████████████████████▋     | 174 kB 5.1 MB/s eta 0:00:01\r\u001b[K     |████████████████████████████▏   | 184 kB 5.1 MB/s eta 0:00:01\r\u001b[K     |█████████████████████████████▊  | 194 kB 5.1 MB/s eta 0:00:01\r\u001b[K     |███████████████████████████████▎| 204 kB 5.1 MB/s eta 0:00:01\r\u001b[K     |████████████████████████████████| 209 kB 5.1 MB/s \n",
            "\u001b[?25hInstalling collected packages: Sastrawi\n",
            "Successfully installed Sastrawi-1.0.1\n"
          ]
        }
      ]
    },
    {
      "cell_type": "code",
      "source": [
        "import re\n",
        "import string\n",
        "from Sastrawi.Stemmer.StemmerFactory import StemmerFactory# create stemmer\n",
        "factory = StemmerFactory()\n",
        "stemmer = factory.create_stemmer()# stemming process\n",
        "# import StopWordRemoverFactory class\n",
        "from Sastrawi.StopWordRemover.StopWordRemoverFactory import StopWordRemoverFactory\n",
        "factory = StopWordRemoverFactory()\n",
        "stopword = factory.create_stop_word_remover()\n",
        "documents_clean=[]\n",
        "\n",
        "for d in datatw:\n",
        "    outputstem= stemmer.stem(d)\n",
        "    d= stopword.remove(outputstem)\n",
        "    # Remove Unicode\n",
        "    document_test = re.sub(r'[^\\x00-\\x7F]+', ' ', d)\n",
        "    # Remove Mentions\n",
        "    document_test = re.sub(r'@\\w+', '', document_test)\n",
        "    # Lowercase the document\n",
        "    document_test = document_test.lower()\n",
        "    # Remove punctuations\n",
        "    document_test = re.sub(r'[%s]' % re.escape(string.punctuation), ' ', document_test)\n",
        "    # Lowercase the numbers\n",
        "    document_test = re.sub(r'[0-9]', '', document_test)\n",
        "    # Remove the doubled space\n",
        "    outputstop = re.sub(r'\\s{2,}', ' ', document_test)\n",
        "    documents_clean.append(outputstop)"
      ],
      "metadata": {
        "id": "yhu7e8JA3pz9"
      },
      "execution_count": null,
      "outputs": []
    },
    {
      "cell_type": "code",
      "source": [
        "documents_clean[0:5]"
      ],
      "metadata": {
        "id": "DHryKJcs4ZYC",
        "outputId": "0eed789c-58e5-4b92-fcf6-bfe141552d1c",
        "colab": {
          "base_uri": "https://localhost:8080/"
        }
      },
      "execution_count": null,
      "outputs": [
        {
          "output_type": "execute_result",
          "data": {
            "text/plain": [
              "['kumpar lah emang bukan gas air mata lah tembak gas air mata kemudian tonton tribun aman damai sejahtera jd panik kaga ada yg nyalahin gas air mata',\n",
              " 'siapkawalpolri tiga polisi yg sdh tetap sebgai sangka tanda polri sangat serius ungkap tragedi lanjut polri tinggal tanya sangka siapa yg perintah tembak gas air mata usut tuntas tragedi kanjuruhan listyosigitp divhumas polri',\n",
              " 'tgipf kejar perwira polisi level tinggi perintah tembak gas air mata stadion kanjuruhan duga penting iklan laga arema versus baya gelar malam hari korantempo https t co ehlvvutogi',\n",
              " 'kronologi tembak salah sasar as korban orang wni asal semarang https t co ilbdgbcvm',\n",
              " 'insiden tembak bexar county texas tewas orang warga negara indonesia dubes as indonesia sung yong kim ada investigasi peristiwa internasional adadikompas https t co qpgfinisgw']"
            ]
          },
          "metadata": {},
          "execution_count": 14
        }
      ]
    },
    {
      "cell_type": "code",
      "source": [
        "from sklearn.feature_extraction.text import TfidfVectorizer\n",
        "import pandas as pd\n",
        "tfidfvectorizer = TfidfVectorizer(analyzer='word')\n",
        "tfidf_wm = tfidfvectorizer.fit_transform(documents_clean)\n",
        "tfidf_tokens = tfidfvectorizer.get_feature_names()\n"
      ],
      "metadata": {
        "id": "WP-WtqiG6OMq",
        "colab": {
          "base_uri": "https://localhost:8080/"
        },
        "outputId": "8fa8b75a-3b9d-48de-b46d-85b0b15c293e"
      },
      "execution_count": null,
      "outputs": [
        {
          "output_type": "stream",
          "name": "stderr",
          "text": [
            "/usr/local/lib/python3.7/dist-packages/sklearn/utils/deprecation.py:87: FutureWarning: Function get_feature_names is deprecated; get_feature_names is deprecated in 1.0 and will be removed in 1.2. Please use get_feature_names_out instead.\n",
            "  warnings.warn(msg, category=FutureWarning)\n"
          ]
        }
      ]
    },
    {
      "cell_type": "code",
      "source": [
        "from sklearn.feature_extraction.text import CountVectorizer \n",
        "import matplotlib.pyplot as plt\n",
        "import numpy as np # linear algebra\n",
        "import pandas as pd # data processing, CSV file I/O (e.g. pd.read_csv)\n",
        "cv = CountVectorizer()\n",
        "words = cv.fit_transform(documents_clean)\n",
        "sum_words = words.sum(axis=0)\n",
        "\n",
        "\n",
        "words_freq = [(word, sum_words[0, idx]) for word, idx in cv.vocabulary_.items()]\n",
        "words_freq = sorted(words_freq, key = lambda x: x[1], reverse = True)\n",
        "frequency = pd.DataFrame(words_freq, columns=['word', 'freq'])\n",
        "\n",
        "color = plt.cm.twilight(np.linspace(0, 1, 20))\n",
        "frequency.head(20).plot(x='word', y='freq', kind='bar', figsize=(15, 7), color = color)\n",
        "plt.title(\"Most Frequently Occuring Words - Top 20\")"
      ],
      "metadata": {
        "id": "Q3MAvwPA6iRL",
        "outputId": "f0f41337-75c8-494b-8cd2-4cfcfdaf6c6d",
        "colab": {
          "base_uri": "https://localhost:8080/",
          "height": 522
        }
      },
      "execution_count": null,
      "outputs": [
        {
          "output_type": "execute_result",
          "data": {
            "text/plain": [
              "Text(0.5, 1.0, 'Most Frequently Occuring Words - Top 20')"
            ]
          },
          "metadata": {},
          "execution_count": 16
        },
        {
          "output_type": "display_data",
          "data": {
            "text/plain": [
              "<Figure size 1080x504 with 1 Axes>"
            ],
            "image/png": "[encoded data removed]"
          },
          "metadata": {
            "needs_background": "light"
          }
        }
      ]
    },
    {
      "cell_type": "code",
      "source": [
        "from sklearn.cluster import KMeans\n",
        "true_k = 3\n",
        "model = KMeans(n_clusters=true_k, init='k-means++', max_iter=100, n_init=1)\n",
        "model.fit(words)"
      ],
      "metadata": {
        "id": "nEcdy2u66tLW",
        "outputId": "b60c8f78-a150-4e9b-95ff-43fc3d8ac0dc",
        "colab": {
          "base_uri": "https://localhost:8080/"
        }
      },
      "execution_count": null,
      "outputs": [
        {
          "output_type": "execute_result",
          "data": {
            "text/plain": [
              "KMeans(max_iter=100, n_clusters=3, n_init=1)"
            ]
          },
          "metadata": {},
          "execution_count": 17
        }
      ]
    },
    {
      "cell_type": "code",
      "source": [
        "order_centroids = model.cluster_centers_.argsort()[:, ::-1]\n",
        "terms = cv.get_feature_names()\n",
        "\n",
        "for i in range(true_k):\n",
        "    print(\"Cluster %d:\" % i),\n",
        "    for ind in order_centroids[i, :10]:\n",
        "        print(' %s' % terms[ind]),\n",
        "    print\n",
        "\n",
        "print(\"\\n\")"
      ],
      "metadata": {
        "id": "uYUa2_Cp6wWG",
        "outputId": "189c3380-423a-4f5a-c90e-6f1c9370711e",
        "colab": {
          "base_uri": "https://localhost:8080/"
        }
      },
      "execution_count": null,
      "outputs": [
        {
          "output_type": "stream",
          "name": "stdout",
          "text": [
            "Cluster 0:\n",
            " kedaluarsa\n",
            " mata\n",
            " ratus\n",
            " polri\n",
            " https\n",
            " sebut\n",
            " olvmulct\n",
            " co\n",
            " nyawa\n",
            " biru\n",
            "Cluster 1:\n",
            " co\n",
            " https\n",
            " kanjuruhan\n",
            " tragedi\n",
            " polisi\n",
            " masing\n",
            " aremania\n",
            " jatim\n",
            " suporter\n",
            " tinggal\n",
            "Cluster 2:\n",
            " aniesbaswedan\n",
            " salah\n",
            " pak\n",
            " kasus\n",
            " co\n",
            " harun\n",
            " qefubzdfzt\n",
            " puas\n",
            " https\n",
            " listyosigitp\n",
            "\n",
            "\n"
          ]
        },
        {
          "output_type": "stream",
          "name": "stderr",
          "text": [
            "/usr/local/lib/python3.7/dist-packages/sklearn/utils/deprecation.py:87: FutureWarning: Function get_feature_names is deprecated; get_feature_names is deprecated in 1.0 and will be removed in 1.2. Please use get_feature_names_out instead.\n",
            "  warnings.warn(msg, category=FutureWarning)\n"
          ]
        }
      ]
    },
    {
      "cell_type": "code",
      "source": [
        "import scipy.cluster.hierarchy as sch\n",
        "X = cv.fit_transform(documents_clean).todense()\n",
        "dendrogram = sch.dendrogram(sch.linkage(X, method = 'ward',metric='euclidean'),orientation=\"top\")\n",
        "plt.title('Dendrogram')\n",
        "plt.xlabel('Jarak Ward')\n",
        "plt.ylabel('Nomor Dokumen')\n",
        "plt.show()"
      ],
      "metadata": {
        "id": "R50vpCyU61CZ",
        "outputId": "f3ee88ea-f2e7-4ae2-b17b-180ab70306ee",
        "colab": {
          "base_uri": "https://localhost:8080/",
          "height": 298
        }
      },
      "execution_count": null,
      "outputs": [
        {
          "output_type": "display_data",
          "data": {
            "text/plain": [
              "<Figure size 432x288 with 1 Axes>"
            ],
            "image/png": "[encoded data removed]"
          },
          "metadata": {
            "needs_background": "light"
          }
        }
      ]
    },
    {
      "cell_type": "code",
      "source": [
        "import scipy.cluster.hierarchy as sch\n",
        "X = cv.fit_transform(documents_clean).todense()\n",
        "dendrogram = sch.dendrogram(sch.linkage(X, method = 'average',metric='euclidean'),orientation=\"right\")\n",
        "plt.title('Dendrogram')\n",
        "plt.xlabel('Jarak Rerata')\n",
        "plt.ylabel('Nomor Dokumen')\n",
        "plt.show()"
      ],
      "metadata": {
        "id": "6I9AaZtI7B3s",
        "outputId": "687f13cc-c8ef-469d-e1a9-dd2a39b87e3a",
        "colab": {
          "base_uri": "https://localhost:8080/",
          "height": 295
        }
      },
      "execution_count": null,
      "outputs": [
        {
          "output_type": "display_data",
          "data": {
            "text/plain": [
              "<Figure size 432x288 with 1 Axes>"
            ],
            "image/png": "[encoded data removed]"
          },
          "metadata": {
            "needs_background": "light"
          }
        }
      ]
    },
    {
      "cell_type": "code",
      "source": [
        "from sklearn.cluster import AgglomerativeClustering\n",
        "\n",
        "cluster = AgglomerativeClustering(n_clusters=6, affinity='euclidean', linkage='ward')  \n",
        "cluster.fit_predict(X) \n",
        "print(cluster.labels_)"
      ],
      "metadata": {
        "colab": {
          "base_uri": "https://localhost:8080/"
        },
        "id": "_6IHDD9sK4mf",
        "outputId": "d62a1a79-b652-4bc9-f864-0e1398fed95c"
      },
      "execution_count": null,
      "outputs": [
        {
          "output_type": "stream",
          "name": "stdout",
          "text": [
            "[3 5 4 0 2 0 1 0 0 0]\n"
          ]
        },
        {
          "output_type": "stream",
          "name": "stderr",
          "text": [
            "/usr/local/lib/python3.7/dist-packages/sklearn/utils/validation.py:598: FutureWarning: np.matrix usage is deprecated in 1.0 and will raise a TypeError in 1.2. Please convert to a numpy array with np.asarray. For more information see: https://numpy.org/doc/stable/reference/generated/numpy.matrix.html\n",
            "  FutureWarning,\n"
          ]
        }
      ]
    },
    {
      "cell_type": "code",
      "source": [
        "from scipy.cluster.hierarchy import dendrogram, linkage\n",
        "from matplotlib import pyplot as plt\n",
        "\n",
        "linked = linkage(X, 'single')\n",
        "\n",
        "labelList = range(0, 10)\n",
        "\n",
        "plt.figure(figsize=(10, 7))\n",
        "dendrogram(linked,\n",
        "            orientation='top',\n",
        "            labels=labelList,\n",
        "            distance_sort='descending',\n",
        "            show_leaf_counts=True)\n",
        "plt.show()"
      ],
      "metadata": {
        "colab": {
          "base_uri": "https://localhost:8080/",
          "height": 431
        },
        "id": "dxlc87eQK68L",
        "outputId": "b9bbb52f-8cc3-470d-d49d-37b8ebd75470"
      },
      "execution_count": null,
      "outputs": [
        {
          "output_type": "display_data",
          "data": {
            "text/plain": [
              "<Figure size 720x504 with 1 Axes>"
            ],
            "image/png": "[encoded data removed]"
          },
          "metadata": {
            "needs_background": "light"
          }
        }
      ]
    },
    {
      "cell_type": "code",
      "source": [
        "from scipy.cluster.hierarchy import dendrogram, linkage\n",
        "from matplotlib import pyplot as plt\n",
        "\n",
        "linked = linkage(X, 'average')\n",
        "\n",
        "labelList = range(0, 10)\n",
        "\n",
        "plt.figure(figsize=(10, 7))\n",
        "dendrogram(linked,\n",
        "            orientation='top',\n",
        "            labels=labelList,\n",
        "            distance_sort='descending',\n",
        "            show_leaf_counts=True)\n",
        "plt.show()"
      ],
      "metadata": {
        "colab": {
          "base_uri": "https://localhost:8080/",
          "height": 431
        },
        "id": "zpiokZlXLD6u",
        "outputId": "b71a0b3f-54e9-46aa-8b14-6da2706cc230"
      },
      "execution_count": null,
      "outputs": [
        {
          "output_type": "display_data",
          "data": {
            "text/plain": [
              "<Figure size 720x504 with 1 Axes>"
            ],
            "image/png": "[encoded data removed]"
          },
          "metadata": {
            "needs_background": "light"
          }
        }
      ]
    },
    {
      "cell_type": "markdown",
      "source": [
        "https://www.freecodecamp.org/news/python-web-scraping-tutorial/\n",
        "https://medium.com/dataseries/how-to-scrape-millions-of-tweets-using-snscrape-195ee3594721"
      ],
      "metadata": {
        "id": "gnHGGgt2M-ia"
      }
    }
  ]
}